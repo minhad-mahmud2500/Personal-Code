{
 "cells": [
  {
   "cell_type": "code",
   "execution_count": 1,
   "id": "a8f7700e",
   "metadata": {},
   "outputs": [
    {
     "data": {
      "text/plain": [
       "(6125, 10)"
      ]
     },
     "execution_count": 1,
     "metadata": {},
     "output_type": "execute_result"
    }
   ],
   "source": [
    "import pandas as pd\n",
    "\n",
    "df = pd.read_csv('ViewingActivity.csv')\n",
    "\n",
    "df.shape"
   ]
  },
  {
   "cell_type": "code",
   "execution_count": 2,
   "id": "f50c8463",
   "metadata": {},
   "outputs": [
    {
     "data": {
      "text/html": [
       "<div>\n",
       "<style scoped>\n",
       "    .dataframe tbody tr th:only-of-type {\n",
       "        vertical-align: middle;\n",
       "    }\n",
       "\n",
       "    .dataframe tbody tr th {\n",
       "        vertical-align: top;\n",
       "    }\n",
       "\n",
       "    .dataframe thead th {\n",
       "        text-align: right;\n",
       "    }\n",
       "</style>\n",
       "<table border=\"1\" class=\"dataframe\">\n",
       "  <thead>\n",
       "    <tr style=\"text-align: right;\">\n",
       "      <th></th>\n",
       "      <th>Profile Name</th>\n",
       "      <th>Start Time</th>\n",
       "      <th>Duration</th>\n",
       "      <th>Attributes</th>\n",
       "      <th>Title</th>\n",
       "      <th>Supplemental Video Type</th>\n",
       "      <th>Device Type</th>\n",
       "      <th>Bookmark</th>\n",
       "      <th>Latest Bookmark</th>\n",
       "      <th>Country</th>\n",
       "    </tr>\n",
       "  </thead>\n",
       "  <tbody>\n",
       "    <tr>\n",
       "      <th>0</th>\n",
       "      <td>Kids</td>\n",
       "      <td>2021-11-13 02:47:46</td>\n",
       "      <td>00:08:42</td>\n",
       "      <td>NaN</td>\n",
       "      <td>The Loud House Movie</td>\n",
       "      <td>NaN</td>\n",
       "      <td>Chrome PC (Cadmium)</td>\n",
       "      <td>01:19:05</td>\n",
       "      <td>01:19:05</td>\n",
       "      <td>US (United States)</td>\n",
       "    </tr>\n",
       "  </tbody>\n",
       "</table>\n",
       "</div>"
      ],
      "text/plain": [
       "  Profile Name           Start Time  Duration Attributes  \\\n",
       "0         Kids  2021-11-13 02:47:46  00:08:42        NaN   \n",
       "\n",
       "                  Title Supplemental Video Type          Device Type  \\\n",
       "0  The Loud House Movie                     NaN  Chrome PC (Cadmium)   \n",
       "\n",
       "   Bookmark Latest Bookmark             Country  \n",
       "0  01:19:05        01:19:05  US (United States)  "
      ]
     },
     "execution_count": 2,
     "metadata": {},
     "output_type": "execute_result"
    }
   ],
   "source": [
    "df.head(1)"
   ]
  },
  {
   "cell_type": "code",
   "execution_count": 3,
   "id": "a04799d4",
   "metadata": {},
   "outputs": [],
   "source": [
    "df = df.drop(['Profile Name', 'Attributes', 'Supplemental Video Type', 'Device Type', 'Bookmark', 'Latest Bookmark', 'Country'], axis=1)\n"
   ]
  },
  {
   "cell_type": "code",
   "execution_count": 4,
   "id": "14bf1fb3",
   "metadata": {},
   "outputs": [
    {
     "data": {
      "text/html": [
       "<div>\n",
       "<style scoped>\n",
       "    .dataframe tbody tr th:only-of-type {\n",
       "        vertical-align: middle;\n",
       "    }\n",
       "\n",
       "    .dataframe tbody tr th {\n",
       "        vertical-align: top;\n",
       "    }\n",
       "\n",
       "    .dataframe thead th {\n",
       "        text-align: right;\n",
       "    }\n",
       "</style>\n",
       "<table border=\"1\" class=\"dataframe\">\n",
       "  <thead>\n",
       "    <tr style=\"text-align: right;\">\n",
       "      <th></th>\n",
       "      <th>Start Time</th>\n",
       "      <th>Duration</th>\n",
       "      <th>Title</th>\n",
       "    </tr>\n",
       "  </thead>\n",
       "  <tbody>\n",
       "    <tr>\n",
       "      <th>0</th>\n",
       "      <td>2021-11-13 02:47:46</td>\n",
       "      <td>00:08:42</td>\n",
       "      <td>The Loud House Movie</td>\n",
       "    </tr>\n",
       "  </tbody>\n",
       "</table>\n",
       "</div>"
      ],
      "text/plain": [
       "            Start Time  Duration                 Title\n",
       "0  2021-11-13 02:47:46  00:08:42  The Loud House Movie"
      ]
     },
     "execution_count": 4,
     "metadata": {},
     "output_type": "execute_result"
    }
   ],
   "source": [
    "df.head(1)"
   ]
  },
  {
   "cell_type": "code",
   "execution_count": 5,
   "id": "eb9ab452",
   "metadata": {},
   "outputs": [
    {
     "data": {
      "text/plain": [
       "Start Time    datetime64[ns, UTC]\n",
       "Duration                   object\n",
       "Title                      object\n",
       "dtype: object"
      ]
     },
     "execution_count": 5,
     "metadata": {},
     "output_type": "execute_result"
    }
   ],
   "source": [
    "df['Start Time'] = pd.to_datetime(df['Start Time'], utc = True)\n",
    "df.dtypes"
   ]
  },
  {
   "cell_type": "code",
   "execution_count": 6,
   "id": "5b861506",
   "metadata": {},
   "outputs": [
    {
     "data": {
      "text/html": [
       "<div>\n",
       "<style scoped>\n",
       "    .dataframe tbody tr th:only-of-type {\n",
       "        vertical-align: middle;\n",
       "    }\n",
       "\n",
       "    .dataframe tbody tr th {\n",
       "        vertical-align: top;\n",
       "    }\n",
       "\n",
       "    .dataframe thead th {\n",
       "        text-align: right;\n",
       "    }\n",
       "</style>\n",
       "<table border=\"1\" class=\"dataframe\">\n",
       "  <thead>\n",
       "    <tr style=\"text-align: right;\">\n",
       "      <th></th>\n",
       "      <th>Start Time</th>\n",
       "      <th>Duration</th>\n",
       "      <th>Title</th>\n",
       "    </tr>\n",
       "  </thead>\n",
       "  <tbody>\n",
       "    <tr>\n",
       "      <th>0</th>\n",
       "      <td>2021-11-12 21:47:46-05:00</td>\n",
       "      <td>00:08:42</td>\n",
       "      <td>The Loud House Movie</td>\n",
       "    </tr>\n",
       "  </tbody>\n",
       "</table>\n",
       "</div>"
      ],
      "text/plain": [
       "                 Start Time  Duration                 Title\n",
       "0 2021-11-12 21:47:46-05:00  00:08:42  The Loud House Movie"
      ]
     },
     "execution_count": 6,
     "metadata": {},
     "output_type": "execute_result"
    }
   ],
   "source": [
    "#Change the Start Time column into the dataframe's index\n",
    "df = df.set_index('Start Time')\n",
    "\n",
    "#Convert from UTC timezone to Eastern time\n",
    "df.index = df.index.tz_convert('US/Eastern')\n",
    "\n",
    "#reset the index so that the start time becomes a column again\n",
    "df = df.reset_index()\n",
    "\n",
    "#double-check that it worked\n",
    "df.head(1)"
   ]
  },
  {
   "cell_type": "code",
   "execution_count": 7,
   "id": "fbe70880",
   "metadata": {},
   "outputs": [
    {
     "data": {
      "text/plain": [
       "Start Time    datetime64[ns, US/Eastern]\n",
       "Duration                 timedelta64[ns]\n",
       "Title                             object\n",
       "dtype: object"
      ]
     },
     "execution_count": 7,
     "metadata": {},
     "output_type": "execute_result"
    }
   ],
   "source": [
    "df['Duration'] = pd.to_timedelta(df['Duration'])\n",
    "df.dtypes"
   ]
  },
  {
   "cell_type": "code",
   "execution_count": 13,
   "id": "bc7fb176",
   "metadata": {},
   "outputs": [
    {
     "data": {
      "text/plain": [
       "(555, 3)"
      ]
     },
     "execution_count": 13,
     "metadata": {},
     "output_type": "execute_result"
    }
   ],
   "source": [
    "#create a new dataframe called arrow that takes from df\n",
    "#only the rows in which the Title column contains 'Arrow'\n",
    "arrow = df[df['Title'].str.contains('Arrow', regex = False)]\n",
    "arrow.shape"
   ]
  },
  {
   "cell_type": "code",
   "execution_count": 23,
   "id": "f73ce704",
   "metadata": {},
   "outputs": [
    {
     "data": {
      "text/plain": [
       "(328, 3)"
      ]
     },
     "execution_count": 23,
     "metadata": {},
     "output_type": "execute_result"
    }
   ],
   "source": [
    "arrow = arrow[(arrow['Duration'] > '0 days 00:01:00')]\n",
    "arrow.shape"
   ]
  },
  {
   "cell_type": "code",
   "execution_count": 24,
   "id": "f23dd8c2",
   "metadata": {},
   "outputs": [
    {
     "data": {
      "text/plain": [
       "Timedelta('6 days 18:45:58')"
      ]
     },
     "execution_count": 24,
     "metadata": {},
     "output_type": "execute_result"
    }
   ],
   "source": [
    "arrow['Duration'].sum() #Arrow"
   ]
  },
  {
   "cell_type": "code",
   "execution_count": 25,
   "id": "87f8a660",
   "metadata": {},
   "outputs": [
    {
     "data": {
      "text/plain": [
       "Timedelta('6 days 18:45:58')"
      ]
     },
     "execution_count": 25,
     "metadata": {},
     "output_type": "execute_result"
    }
   ],
   "source": [
    "arrow['Duration'].sum() "
   ]
  },
  {
   "cell_type": "code",
   "execution_count": 26,
   "id": "d0f4adfc",
   "metadata": {},
   "outputs": [
    {
     "data": {
      "text/html": [
       "<div>\n",
       "<style scoped>\n",
       "    .dataframe tbody tr th:only-of-type {\n",
       "        vertical-align: middle;\n",
       "    }\n",
       "\n",
       "    .dataframe tbody tr th {\n",
       "        vertical-align: top;\n",
       "    }\n",
       "\n",
       "    .dataframe thead th {\n",
       "        text-align: right;\n",
       "    }\n",
       "</style>\n",
       "<table border=\"1\" class=\"dataframe\">\n",
       "  <thead>\n",
       "    <tr style=\"text-align: right;\">\n",
       "      <th></th>\n",
       "      <th>Start Time</th>\n",
       "      <th>Duration</th>\n",
       "      <th>Title</th>\n",
       "      <th>weekday</th>\n",
       "      <th>hour</th>\n",
       "    </tr>\n",
       "  </thead>\n",
       "  <tbody>\n",
       "    <tr>\n",
       "      <th>462</th>\n",
       "      <td>2022-05-13 02:00:55-04:00</td>\n",
       "      <td>0 days 00:42:39</td>\n",
       "      <td>Arrow: Season 3: My Name is Oliver Queen (Epis...</td>\n",
       "      <td>4</td>\n",
       "      <td>2</td>\n",
       "    </tr>\n",
       "  </tbody>\n",
       "</table>\n",
       "</div>"
      ],
      "text/plain": [
       "                   Start Time        Duration  \\\n",
       "462 2022-05-13 02:00:55-04:00 0 days 00:42:39   \n",
       "\n",
       "                                                 Title  weekday  hour  \n",
       "462  Arrow: Season 3: My Name is Oliver Queen (Epis...        4     2  "
      ]
     },
     "execution_count": 26,
     "metadata": {},
     "output_type": "execute_result"
    }
   ],
   "source": [
    "arrow['weekday'] = arrow['Start Time'].dt.weekday\n",
    "arrow['hour'] = arrow['Start Time'].dt.hour\n",
    "\n",
    "#check to make sure the columns were added correctly\n",
    "arrow.head(1)"
   ]
  },
  {
   "cell_type": "code",
   "execution_count": 1,
   "id": "056677f9",
   "metadata": {},
   "outputs": [],
   "source": [
    "%matplotlib inline\n",
    "import matplotlib"
   ]
  },
  {
   "cell_type": "code",
   "execution_count": null,
   "id": "6c1fb8f5",
   "metadata": {},
   "outputs": [],
   "source": []
  },
  {
   "cell_type": "code",
   "execution_count": 17,
   "id": "5145f86c",
   "metadata": {},
   "outputs": [
    {
     "data": {
      "text/plain": [
       "<AxesSubplot:title={'center':'Arrow Episodes Watched by Hour'}>"
      ]
     },
     "execution_count": 17,
     "metadata": {},
     "output_type": "execute_result"
    },
    {
     "data": {
      "image/png": "[encoded data removed]",
      "text/plain": [
       "<Figure size 1440x720 with 1 Axes>"
      ]
     },
     "metadata": {
      "needs_background": "light"
     },
     "output_type": "display_data"
    }
   ],
   "source": [
    "import pandas as pd\n",
    "%matplotlib inline\n",
    "import matplotlib\n",
    "\n",
    "df = pd.read_csv('ViewingActivity.csv')\n",
    "\n",
    "df.shape\n",
    "\n",
    "df.head(1)\n",
    "\n",
    "df = df.drop(['Profile Name', 'Attributes', 'Supplemental Video Type', 'Device Type', 'Bookmark', 'Latest Bookmark', 'Country'], axis=1)\n",
    "\n",
    "df.head(1)\n",
    "\n",
    "df['Start Time'] = pd.to_datetime(df['Start Time'], utc = True)\n",
    "df.dtypes\n",
    "\n",
    "#create a new dataframe called arrow that takes from df only the rows in which the Title column contains 'Arrow'\n",
    "arrow = df[df['Title'].str.contains('Arrow', regex = False)]\n",
    "arrow.shape\n",
    "\n",
    "arrow = arrow[(arrow['Duration'] > '0 days 00:01:00')]\n",
    "arrow.shape\n",
    "\n",
    "arrow['Duration'].sum()\n",
    "\n",
    "arrow['weekday'] = arrow['Start Time'].dt.weekday\n",
    "arrow['hour'] = arrow['Start Time'].dt.hour\n",
    "\n",
    "#check to make sure the columns were added correctly\n",
    "arrow.head(1)\n",
    "\n",
    "# set our categorical and define the order so the days are plotted Monday-Sunday\n",
    "arrow['weekday'] = pd.Categorical(arrow['weekday'], categories = [0, 1, 2, 3, 4, 5, 6], ordered = True)\n",
    "\n",
    "# create arrow_by_day and count the rows for each weekday, assigning the result to that variable\n",
    "arrow_by_day = arrow['weekday'].value_counts()\n",
    "\n",
    "# sort the index using our categorical, so that Monday (0) is first, Tuesday (1) is second, etc.\n",
    "arrow_by_day = arrow_by_day.sort_index()\n",
    "\n",
    "# optional: update the font size to make it a bit larger and easier to read\n",
    "matplotlib.rcParams.update({'font.size': 22})\n",
    "\n",
    "#plot arrow_by_day as a bar chart with the listed size and title\n",
    "arrow_by_day.plot(kind = 'bar', figsize = (20, 10), title = 'Arrow Episodes Watched by Day')\n",
    "\n",
    "# set our categorical and define the order so the hours are plotted 0-23\n",
    "arrow['hour'] = pd.Categorical(arrow['hour'], categories = [0, 1, 2, 3, 4, 5, 6, 7, 8, 9, 10, 11, 12, 13, 14, 15, 16, 17, 18, 19, 20, 21, 22, 23], ordered = True)\n",
    "\n",
    "# create arrow_by_hour and count the rows for each hour, assigning the result to that variable\n",
    "arrow_by_hour = arrow['hour'].value_counts()\n",
    "\n",
    "# sort the index using our categorical, so that midnight (0) is first, 1 a.m. (1) is second, etc.\n",
    "arrow_by_hour = arrow_by_hour.sort_index()\n",
    "\n",
    "# plot arrow_by_hour as a bar chart with the listed size and title\n",
    "arrow_by_hour.plot(kind = 'bar', figsize = (20, 10), title = 'Arrow Episodes Watched by Hour')"
   ]
  },
  {
   "cell_type": "code",
   "execution_count": null,
   "id": "0291c183",
   "metadata": {},
   "outputs": [],
   "source": []
  }
 ],
 "metadata": {
  "kernelspec": {
   "display_name": "Python 3 (ipykernel)",
   "language": "python",
   "name": "python3"
  },
  "language_info": {
   "codemirror_mode": {
    "name": "ipython",
    "version": 3
   },
   "file_extension": ".py",
   "mimetype": "text/x-python",
   "name": "python",
   "nbconvert_exporter": "python",
   "pygments_lexer": "ipython3",
   "version": "3.9.12"
  }
 },
 "nbformat": 4,
 "nbformat_minor": 5
}
